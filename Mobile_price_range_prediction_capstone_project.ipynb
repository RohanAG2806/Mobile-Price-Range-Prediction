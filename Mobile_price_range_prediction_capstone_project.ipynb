{
  "nbformat": 4,
  "nbformat_minor": 0,
  "metadata": {
    "colab": {
      "name": "Mobile-price-range-prediction capstone project.ipynb",
      "provenance": [],
      "authorship_tag": "ABX9TyMkYJI1Ihf6HGcd+nSZ5leJ",
      "include_colab_link": true
    },
    "kernelspec": {
      "name": "python3",
      "display_name": "Python 3"
    },
    "language_info": {
      "name": "python"
    }
  },
  "cells": [
    {
      "cell_type": "markdown",
      "metadata": {
        "id": "view-in-github",
        "colab_type": "text"
      },
      "source": [
        "<a href=\"https://colab.research.google.com/github/RohanAG2806/Mobile-Price-Range-Prediction/blob/main/Mobile_price_range_prediction_capstone_project.ipynb\" target=\"_parent\"><img src=\"https://colab.research.google.com/assets/colab-badge.svg\" alt=\"Open In Colab\"/></a>"
      ]
    },
    {
      "cell_type": "markdown",
      "source": [
        "## In the competitive mobile phone market companies want\n",
        "## to understand sales data of mobile phones and factors which drive the prices.\n",
        "## The objective is to find out some relation between features of a mobile phone(eg:- RAM,\n",
        "## Internal Memory, etc) and its selling price. In this problem, we do not have to predict theactual price but a price range indicating how high the price is.\n",
        "## **Data Description -**\n",
        "### Battery_power - Total energy a battery can store in one time measured in mAh\n",
        "### Blue - Has bluetooth or not\n",
        "### Clock_speed - speed at which microprocessor executes instructions\n",
        "### Dual_sim - Has dual sim support or not\n",
        "### Fc - Front Camera mega pixels\n",
        "### Four_g - Has 4G or not\n",
        "### Int_memory - Internal Memory in Gigabytes\n",
        "### M_dep - Mobile Depth in cm\n",
        "### Mobile_wt - Weight of mobile phone\n",
        "### N_cores - Number of cores of processor\n",
        "### Pc - Primary Camera mega pixels\n",
        "### Px_height - Pixel Resolution Height\n",
        "### Px_width - Pixel Resolution Width\n",
        "### Ram - Random Access Memory in Mega Bytes\n",
        "### Sc_h - Screen Height of mobile in cm\n",
        "### Sc_w - Screen Width of mobile in cm\n",
        "### Talk_time - longest time that a single battery charge will last when you are\n",
        "### Three_g - Has 3G or not\n",
        "### Touch_screen - Has touch screen or not\n",
        "### Wifi - Has wifi or not\n",
        "### Price_range - This is the target variable with value of 0(low cost), 1(medium cost),\n",
        "### 2(high cost) and 3(very high cost)."
      ],
      "metadata": {
        "id": "6Ok-lI0HBLXb"
      }
    },
    {
      "cell_type": "code",
      "source": [
        ""
      ],
      "metadata": {
        "id": "IwyrbXZfCEzm"
      },
      "execution_count": null,
      "outputs": []
    }
  ]
}